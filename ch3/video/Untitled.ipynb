{
 "cells": [
  {
   "cell_type": "code",
   "execution_count": null,
   "metadata": {
    "collapsed": true
   },
   "outputs": [],
   "source": [
    "import cv2\n",
    "import numpy as np\n",
    "\n",
    "# カメラからの入力を得る --- (*1)\n",
    "cap = cv2.VideoCapture(0)\n",
    "while True:\n",
    "    # フレームを読む --- (*2)\n",
    "    _, frame = cap.read()\n",
    "    # 이미지 축소하기 --- (*3)\n",
    "    frame = cv2.resize(frame, (500,300))\n",
    "    # ディスプレイに이미지 출력하기 --- (*4)\n",
    "    cv2.imshow('frame', frame)\n",
    "    # ESCキーが押されたらループを抜ける\n",
    "    k = cv2.waitKey(1) # 1msec 대기\n",
    "    if k == 27: break\n",
    "\n",
    "cap.release() # 카메라 해제하기\n",
    "cv2.destroyAllWindows() # 윈도우 제거하기\n",
    "\n",
    "\n"
   ]
  }
 ],
 "metadata": {
  "kernelspec": {
   "display_name": "Python 3",
   "language": "python",
   "name": "python3"
  },
  "language_info": {
   "codemirror_mode": {
    "name": "ipython",
    "version": 3
   },
   "file_extension": ".py",
   "mimetype": "text/x-python",
   "name": "python",
   "nbconvert_exporter": "python",
   "pygments_lexer": "ipython3",
   "version": "3.6.2"
  }
 },
 "nbformat": 4,
 "nbformat_minor": 2
}
